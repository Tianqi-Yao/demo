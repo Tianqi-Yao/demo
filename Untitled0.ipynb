{
  "nbformat": 4,
  "nbformat_minor": 0,
  "metadata": {
    "colab": {
      "name": "Untitled0.ipynb",
      "provenance": [],
      "collapsed_sections": [],
      "authorship_tag": "ABX9TyPTHWGUnoiO10944HSXBJ1E",
      "include_colab_link": true
    },
    "kernelspec": {
      "name": "python3",
      "display_name": "Python 3"
    },
    "language_info": {
      "name": "python"
    }
  },
  "cells": [
    {
      "cell_type": "markdown",
      "metadata": {
        "id": "view-in-github",
        "colab_type": "text"
      },
      "source": [
        "<a href=\"https://colab.research.google.com/github/Tianqi-Yao/demo/blob/master/Untitled0.ipynb\" target=\"_parent\"><img src=\"https://colab.research.google.com/assets/colab-badge.svg\" alt=\"Open In Colab\"/></a>"
      ]
    },
    {
      "cell_type": "code",
      "source": [
        "a = [1,3,4,5,6]\n",
        "len(a)\n",
        "a[len(a)-1]\n",
        "# for i in a:\n",
        "#   i"
      ],
      "metadata": {
        "colab": {
          "base_uri": "https://localhost:8080/"
        },
        "id": "hgHlMV9LZ8KQ",
        "outputId": "6984b209-a295-44af-c647-74823aa7f274"
      },
      "execution_count": null,
      "outputs": [
        {
          "output_type": "execute_result",
          "data": {
            "text/plain": [
              "6"
            ]
          },
          "metadata": {},
          "execution_count": 5
        }
      ]
    },
    {
      "cell_type": "code",
      "source": [
        "dict1 = {'c': 10, 'b': 8} \n",
        "dict2 = {'d': 6, 'c': 4} \n",
        "a = {**dict1, **dict2}\n",
        "b = {**dict2, **dict1}\n",
        "print(a)\n",
        "print(b)"
      ],
      "metadata": {
        "colab": {
          "base_uri": "https://localhost:8080/"
        },
        "id": "lQWTrho5g_Ko",
        "outputId": "805afa99-88f8-4279-8871-32f9ba4e4a4e"
      },
      "execution_count": null,
      "outputs": [
        {
          "output_type": "stream",
          "name": "stdout",
          "text": [
            "{'c': 4, 'b': 8, 'd': 6}\n",
            "{'d': 6, 'c': 10, 'b': 8}\n"
          ]
        }
      ]
    },
    {
      "cell_type": "markdown",
      "source": [
        "# 新段落"
      ],
      "metadata": {
        "id": "SC6gsZka51VO"
      }
    }
  ]
}